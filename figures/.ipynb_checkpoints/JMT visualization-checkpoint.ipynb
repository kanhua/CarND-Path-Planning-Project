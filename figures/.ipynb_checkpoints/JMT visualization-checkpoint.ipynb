{
 "cells": [
  {
   "cell_type": "code",
   "execution_count": 1,
   "metadata": {
    "collapsed": true
   },
   "outputs": [],
   "source": [
    "%matplotlib inline\n",
    "import numpy as np\n",
    "import matplotlib.pyplot as plt"
   ]
  },
  {
   "cell_type": "markdown",
   "metadata": {},
   "source": [
    "\n",
    "    MatrixXd A = MatrixXd(3, 3);\n",
    "\tA << T*T*T, T*T*T*T, T*T*T*T*T,\n",
    "\t\t\t    3*T*T, 4*T*T*T,5*T*T*T*T,\n",
    "\t\t\t    6*T, 12*T*T, 20*T*T*T;\n",
    "\t\t\n",
    "\tMatrixXd B = MatrixXd(3,1);\t    \n",
    "\tB << end[0]-(start[0]+start[1]*T+.5*start[2]*T*T),\n",
    "\t\t\t    end[1]-(start[1]+start[2]*T),\n",
    "\t\t\t    end[2]-start[2];\n",
    "\t\t\t    \n",
    "\tMatrixXd Ai = A.inverse();\n",
    "\t\n",
    "\tMatrixXd C = Ai*B;\n",
    "\t\n",
    "\tvector <double> result = {start[0], start[1], .5*start[2]};\n",
    "\tfor(int i = 0; i < C.size(); i++)\n",
    "\t{\n",
    "\t    result.push_back(C.data()[i]);\n",
    "\t}\n",
    "\t\n",
    "    return result;"
   ]
  },
  {
   "cell_type": "code",
   "execution_count": 2,
   "metadata": {
    "collapsed": true
   },
   "outputs": [],
   "source": [
    "def solve_jmt(start, end, T):\n",
    "    \n",
    "    A_mat=np.array([[T*T*T, T*T*T*T, T*T*T*T*T],\n",
    "           [3*T*T, 4*T*T*T,5*T*T*T*T],\n",
    "           [6*T, 12*T*T, 20*T*T*T]])\n",
    "    \n",
    "    b=np.array([end[0]-(start[0]+start[1]*T+.5*start[2]*T*T),end[1]-(start[1]+start[2]*T),end[2]-start[2]]).transpose()\n",
    "    \n",
    "    Ap=np.linalg.inv(A_mat)\n",
    "    \n",
    "    c=np.dot(Ap,b)\n",
    "    \n",
    "    x_coef=np.array([start[0], start[1], .5*start[2]])\n",
    "    \n",
    "    x_coef=np.concatenate((x_coef,c))\n",
    "    \n",
    "    v_coef=np.array([start[1],start[2],3*c[0],4*c[1],5*c[2]])\n",
    "    \n",
    "    a_coef=np.array([start[2],6*c[0],12*c[1],20*c[2]])\n",
    "    \n",
    "    return x_coef,v_coef,a_coef"
   ]
  },
  {
   "cell_type": "code",
   "execution_count": 3,
   "metadata": {
    "collapsed": true
   },
   "outputs": [],
   "source": [
    "def get_s(coef,t):\n",
    "    s=0;\n",
    "    for p in range(len(coef)):\n",
    "        s+=coef[p]*np.power(t,p)\n",
    "    return s"
   ]
  },
  {
   "cell_type": "code",
   "execution_count": 57,
   "metadata": {
    "collapsed": true
   },
   "outputs": [],
   "source": [
    "def plot_traj(x_coef,v_coef,a_coef,T):\n",
    "    test_t=np.arange(0,T,0.02)\n",
    "    test_s=np.zeros_like(test_t)\n",
    "    test_v=np.zeros_like(test_t)\n",
    "    test_a=np.zeros_like(test_t)\n",
    "    for i,tt in enumerate(test_t):\n",
    "        test_s[i]=get_s(x_coef,tt)\n",
    "        test_v[i]=get_s(v_coef,tt)\n",
    "        test_a[i]=get_s(a_coef,tt)\n",
    "    plt.plot(test_t,test_s,label='s')\n",
    "    plt.plot(test_t,test_v,label='v')\n",
    "    plt.plot(test_t,test_a,label='a')\n",
    "    plt.legend()"
   ]
  },
  {
   "cell_type": "code",
   "execution_count": 49,
   "metadata": {
    "collapsed": true
   },
   "outputs": [],
   "source": [
    "x_coef,v_coef,a_coef=solve_jmt(np.array([0,0,0]),np.array([0.5*2*0.01,0.1*1,1]),0.1)"
   ]
  },
  {
   "cell_type": "code",
   "execution_count": 50,
   "metadata": {
    "collapsed": true
   },
   "outputs": [],
   "source": [
    "test_t=np.arange(0,0.1,0.02)\n",
    "test_s=np.zeros_like(test_t)\n",
    "test_v=np.zeros_like(test_t)\n",
    "test_a=np.zeros_like(test_t)\n",
    "for i,tt in enumerate(test_t):\n",
    "    test_s[i]=get_s(x_coef,tt)\n",
    "    test_v[i]=get_s(v_coef,tt)\n",
    "    test_a[i]=get_s(a_coef,tt)"
   ]
  },
  {
   "cell_type": "code",
   "execution_count": 51,
   "metadata": {},
   "outputs": [
    {
     "data": {
      "text/plain": [
       "<matplotlib.legend.Legend at 0x111639668>"
      ]
     },
     "execution_count": 51,
     "metadata": {},
     "output_type": "execute_result"
    },
    {
     "data": {
      "image/png": "[encoded data removed]",
      "text/plain": [
       "<matplotlib.figure.Figure at 0x11150bf60>"
      ]
     },
     "metadata": {},
     "output_type": "display_data"
    }
   ],
   "source": [
    "plt.plot(test_t,test_s,label='s')\n",
    "plt.plot(test_t,test_v,label='v')\n",
    "plt.plot(test_t,test_a,label='a')\n",
    "plt.legend()"
   ]
  },
  {
   "cell_type": "code",
   "execution_count": 52,
   "metadata": {},
   "outputs": [
    {
     "data": {
      "text/plain": [
       "1"
      ]
     },
     "execution_count": 52,
     "metadata": {},
     "output_type": "execute_result"
    }
   ],
   "source": [
    "np.sign(1)"
   ]
  },
  {
   "cell_type": "code",
   "execution_count": 53,
   "metadata": {
    "collapsed": true
   },
   "outputs": [],
   "source": [
    "def get_a(vi,vF,delta_t,a_max):\n",
    "    a=(vF-vi)/delta_t\n",
    "    if abs(a)>a_max:\n",
    "        return np.sign(a)*a_max\n",
    "    else:\n",
    "        return a"
   ]
  },
  {
   "cell_type": "code",
   "execution_count": null,
   "metadata": {
    "collapsed": true
   },
   "outputs": [],
   "source": []
  },
  {
   "cell_type": "code",
   "execution_count": 58,
   "metadata": {},
   "outputs": [
    {
     "data": {
      "image/png": "[encoded data removed]",
      "text/plain": [
       "<matplotlib.figure.Figure at 0x111788278>"
      ]
     },
     "metadata": {},
     "output_type": "display_data"
    }
   ],
   "source": [
    "vi=0\n",
    "vF=20\n",
    "delta_t=0.02*5\n",
    "a_max=6\n",
    "a=get_a(vi,vF,delta_t,a_max)\n",
    "s=vi*delta_t+0.5*a*delta_t**2\n",
    "x_coef,v_coef,a_coef=solve_jmt(np.array([0,vi,a]),np.array([s,vi+delta_t*a,a]),delta_t)\n",
    "plot_traj(x_coef,v_coef,a_coef,delta_t)"
   ]
  },
  {
   "cell_type": "code",
   "execution_count": 60,
   "metadata": {},
   "outputs": [
    {
     "data": {
      "image/png": "[encoded data removed]",
      "text/plain": [
       "<matplotlib.figure.Figure at 0x111f094e0>"
      ]
     },
     "metadata": {},
     "output_type": "display_data"
    }
   ],
   "source": [
    "vi=20\n",
    "vF=0\n",
    "delta_t=0.02*5\n",
    "a_max=6\n",
    "a=get_a(vi,vF,delta_t,a_max)\n",
    "s=vi*delta_t+0.5*a*delta_t**2\n",
    "x_coef,v_coef,a_coef=solve_jmt(np.array([0,vi,a]),np.array([s,vi+delta_t*a,a]),delta_t)\n",
    "plot_traj(x_coef,v_coef,a_coef,delta_t)"
   ]
  },
  {
   "cell_type": "code",
   "execution_count": 61,
   "metadata": {},
   "outputs": [
    {
     "data": {
      "image/png": "[encoded data removed]",
      "text/plain": [
       "<matplotlib.figure.Figure at 0x112044eb8>"
      ]
     },
     "metadata": {},
     "output_type": "display_data"
    }
   ],
   "source": [
    "vi=18\n",
    "vF=18.1\n",
    "delta_t=0.02*5\n",
    "a_max=6\n",
    "a=get_a(vi,vF,delta_t,a_max)\n",
    "s=vi*delta_t+0.5*a*delta_t**2\n",
    "x_coef,v_coef,a_coef=solve_jmt(np.array([0,vi,a]),np.array([s,vi+delta_t*a,a]),delta_t)\n",
    "plot_traj(x_coef,v_coef,a_coef,delta_t)"
   ]
  },
  {
   "cell_type": "code",
   "execution_count": null,
   "metadata": {
    "collapsed": true
   },
   "outputs": [],
   "source": []
  }
 ],
 "metadata": {
  "kernelspec": {
   "display_name": "Python 3",
   "language": "python",
   "name": "python3"
  },
  "language_info": {
   "codemirror_mode": {
    "name": "ipython",
    "version": 3
   },
   "file_extension": ".py",
   "mimetype": "text/x-python",
   "name": "python",
   "nbconvert_exporter": "python",
   "pygments_lexer": "ipython3",
   "version": "3.6.0"
  }
 },
 "nbformat": 4,
 "nbformat_minor": 2
}
